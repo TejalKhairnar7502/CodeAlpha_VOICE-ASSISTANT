{
  "nbformat": 4,
  "nbformat_minor": 0,
  "metadata": {
    "colab": {
      "provenance": []
    },
    "kernelspec": {
      "name": "python3",
      "display_name": "Python 3"
    },
    "language_info": {
      "name": "python"
    }
  },
  "cells": [
    {
      "cell_type": "code",
      "source": [
        "def generate_fibonacci(n):\n",
        "    fibonacci_sequence = [0, 1]\n",
        "\n",
        "    while len(fibonacci_sequence) < n:\n",
        "        next_number = fibonacci_sequence[-1] + fibonacci_sequence[-2]\n",
        "        fibonacci_sequence.append(next_number)\n",
        "\n",
        "    return fibonacci_sequence\n",
        "\n",
        "# Example: Generate the first 10 terms of the Fibonacci sequence\n",
        "n_terms = 10\n",
        "fibonacci_sequence = generate_fibonacci(n_terms)\n",
        "print(f\"The first {n_terms} terms of the Fibonacci sequence are: {fibonacci_sequence}\")\n"
      ],
      "metadata": {
        "colab": {
          "base_uri": "https://localhost:8080/"
        },
        "id": "WjITdFayStoY",
        "outputId": "0580d4d7-9bdc-4a23-fa66-e1ef71a4dd1d"
      },
      "execution_count": 6,
      "outputs": [
        {
          "output_type": "stream",
          "name": "stdout",
          "text": [
            "The first 10 terms of the Fibonacci sequence are: [0, 1, 1, 2, 3, 5, 8, 13, 21, 34]\n"
          ]
        }
      ]
    },
    {
      "cell_type": "code",
      "source": [],
      "metadata": {
        "id": "5gMjGnbVSuZe"
      },
      "execution_count": null,
      "outputs": []
    }
  ]
}